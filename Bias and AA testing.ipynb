{
 "cells": [
  {
   "cell_type": "markdown",
   "metadata": {},
   "source": [
    "1. Bathing suits are much more likely to be looked at and shopped for in the month of May with summer incoming (assuming Northern hemisphere) than the month of February. We can expect the advertising to be more successful in May.\n",
    "\n",
    "2. People who voluntarily go to an anxiety clinic are much more likely to display anxious tendencies than those from the general population.\n",
    "\n",
    "3. With the billboard just being put up we can generally expect to see an increase in activity in the first few weeks. It would take a longer time to determine if the billboard has long term lasting impact.\n",
    "\n",
    "4. Due to the fact that this is a loyalty program it would not reflect an immediate "
   ]
  }
 ],
 "metadata": {
  "kernelspec": {
   "display_name": "Python 3",
   "language": "python",
   "name": "python3"
  },
  "language_info": {
   "codemirror_mode": {
    "name": "ipython",
    "version": 3
   },
   "file_extension": ".py",
   "mimetype": "text/x-python",
   "name": "python",
   "nbconvert_exporter": "python",
   "pygments_lexer": "ipython3",
   "version": "3.6.1"
  }
 },
 "nbformat": 4,
 "nbformat_minor": 2
}
